{
  "metadata": {
    "kernelspec": {
      "name": "python",
      "display_name": "Python (Pyodide)",
      "language": "python"
    },
    "language_info": {
      "codemirror_mode": {
        "name": "python",
        "version": 3
      },
      "file_extension": ".py",
      "mimetype": "text/x-python",
      "name": "python",
      "nbconvert_exporter": "python",
      "pygments_lexer": "ipython3",
      "version": "3.8"
    }
  },
  "nbformat_minor": 5,
  "nbformat": 4,
  "cells": [
    {
      "id": "24d12dcf-6e1c-4a59-8150-0f44fa1b51d4",
      "cell_type": "markdown",
      "source": "# My Data Science Notebook\n",
      "metadata": {}
    },
    {
      "id": "ae9c31a7-6dd1-4317-8ffd-4c158aee3b5e",
      "cell_type": "markdown",
      "source": "## Introduction\n\nThis notebook demonstrates various data science concepts, providing examples of languages, libraries, tools, arithmetic expressions, and more.\n",
      "metadata": {}
    },
    {
      "id": "dec39b59-cf82-4ca2-8156-b094edee195b",
      "cell_type": "markdown",
      "source": "## Data Science Languages\n\n- Python\n- R\n- SQL\n- Julia\n",
      "metadata": {}
    },
    {
      "id": "127532e7-3ffe-42c9-96e2-bbf8aea592dd",
      "cell_type": "markdown",
      "source": "## Data Science Libraries\n\n- NumPy\n- pandas\n- scikit-learn\n- TensorFlow\n- Keras\n",
      "metadata": {}
    },
    {
      "id": "a5ffe9cd-fd79-43de-aa1e-1ef6840ae583",
      "cell_type": "markdown",
      "source": "## Data Science Tools\n\n| Tool             | Description                                      |\n|------------------|--------------------------------------------------|\n| Jupyter Notebook | Interactive coding and data visualization        |\n| RStudio          | IDE for R programming                             |\n| GitHub           | Version control and collaboration                |\n| VSCode           | Extensible code editor for various languages      |\n",
      "metadata": {}
    },
    {
      "id": "ad2797b5-2cb2-415e-aed2-9ac6c71f8658",
      "cell_type": "markdown",
      "source": "## Arithmetic Expression Examples\n\nBelow are some code examples demonstrating basic arithmetic operations.\n",
      "metadata": {}
    },
    {
      "id": "d660293b-c522-4bcb-bcaf-d8cfe52ea92a",
      "cell_type": "code",
      "source": "# Multiply and add numbers\nmultiplication = 8 * 7\naddition = 15 + 10\nresult = multiplication + addition\nprint(\"The result is:\", result)\n",
      "metadata": {
        "trusted": true
      },
      "outputs": [
        {
          "name": "stdout",
          "output_type": "stream",
          "text": "The result is: 81\n"
        }
      ],
      "execution_count": 6
    },
    {
      "id": "739b024d-bc2e-42e1-bafd-7a8b37fc7ef1",
      "cell_type": "code",
      "source": "# Convert minutes to hours\nminutes = 120\nhours = minutes / 60\nprint(f\"{minutes} minutes is equal to {hours} hours\")\n",
      "metadata": {
        "trusted": true
      },
      "outputs": [
        {
          "name": "stdout",
          "output_type": "stream",
          "text": "120 minutes is equal to 2.0 hours\n"
        }
      ],
      "execution_count": 7
    },
    {
      "id": "537ec227-b51a-46ba-a269-a1c781c5a2e4",
      "cell_type": "markdown",
      "source": "## Objectives\n\n- Demonstrate the structure and usage of markdown and code cells.\n- List data science languages and libraries.\n- Create and display a table of data science tools.\n- Show examples of arithmetic operations.\n- Convert time units from minutes to hours.\n",
      "metadata": {}
    },
    {
      "id": "f72a7a16-4a1d-4b2e-8c65-787ffdef6faa",
      "cell_type": "markdown",
      "source": "## Author\n\nAlec Chang\n",
      "metadata": {}
    }
  ]
}